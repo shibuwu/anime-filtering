{
 "cells": [
  {
   "cell_type": "code",
   "execution_count": 4,
   "metadata": {},
   "outputs": [
    {
     "name": "stdout",
     "output_type": "stream",
     "text": [
      "Collecting pandas\n",
      "  Downloading pandas-2.2.3-cp312-cp312-win_amd64.whl.metadata (19 kB)\n",
      "Requirement already satisfied: numpy>=1.26.0 in c:\\users\\shiba\\appdata\\local\\programs\\python\\python312\\lib\\site-packages (from pandas) (1.26.4)\n",
      "Requirement already satisfied: python-dateutil>=2.8.2 in c:\\users\\shiba\\appdata\\roaming\\python\\python312\\site-packages (from pandas) (2.9.0.post0)\n",
      "Collecting pytz>=2020.1 (from pandas)\n",
      "  Downloading pytz-2024.2-py2.py3-none-any.whl.metadata (22 kB)\n",
      "Collecting tzdata>=2022.7 (from pandas)\n",
      "  Downloading tzdata-2024.2-py2.py3-none-any.whl.metadata (1.4 kB)\n",
      "Requirement already satisfied: six>=1.5 in c:\\users\\shiba\\appdata\\roaming\\python\\python312\\site-packages (from python-dateutil>=2.8.2->pandas) (1.16.0)\n",
      "Downloading pandas-2.2.3-cp312-cp312-win_amd64.whl (11.5 MB)\n",
      "   ---------------------------------------- 0.0/11.5 MB ? eta -:--:--\n",
      "   ---------------------------------------- 0.0/11.5 MB 1.9 MB/s eta 0:00:06\n",
      "   ---------------------------------------- 0.1/11.5 MB 1.7 MB/s eta 0:00:07\n",
      "   - -------------------------------------- 0.3/11.5 MB 2.3 MB/s eta 0:00:05\n",
      "   - -------------------------------------- 0.5/11.5 MB 2.7 MB/s eta 0:00:05\n",
      "   -- ------------------------------------- 0.7/11.5 MB 2.9 MB/s eta 0:00:04\n",
      "   --- ------------------------------------ 0.9/11.5 MB 3.2 MB/s eta 0:00:04\n",
      "   --- ------------------------------------ 1.0/11.5 MB 3.3 MB/s eta 0:00:04\n",
      "   --- ------------------------------------ 1.1/11.5 MB 3.1 MB/s eta 0:00:04\n",
      "   --- ------------------------------------ 1.1/11.5 MB 2.8 MB/s eta 0:00:04\n",
      "   ---- ----------------------------------- 1.4/11.5 MB 3.1 MB/s eta 0:00:04\n",
      "   ----- ---------------------------------- 1.5/11.5 MB 3.1 MB/s eta 0:00:04\n",
      "   ------ --------------------------------- 1.7/11.5 MB 3.3 MB/s eta 0:00:03\n",
      "   ------ --------------------------------- 2.0/11.5 MB 3.3 MB/s eta 0:00:03\n",
      "   ------- -------------------------------- 2.2/11.5 MB 3.4 MB/s eta 0:00:03\n",
      "   -------- ------------------------------- 2.5/11.5 MB 3.5 MB/s eta 0:00:03\n",
      "   --------- ------------------------------ 2.7/11.5 MB 3.7 MB/s eta 0:00:03\n",
      "   ---------- ----------------------------- 3.0/11.5 MB 3.7 MB/s eta 0:00:03\n",
      "   ----------- ---------------------------- 3.2/11.5 MB 3.9 MB/s eta 0:00:03\n",
      "   ------------ --------------------------- 3.6/11.5 MB 4.0 MB/s eta 0:00:02\n",
      "   ------------- -------------------------- 3.8/11.5 MB 4.1 MB/s eta 0:00:02\n",
      "   -------------- ------------------------- 4.1/11.5 MB 4.2 MB/s eta 0:00:02\n",
      "   --------------- ------------------------ 4.4/11.5 MB 4.3 MB/s eta 0:00:02\n",
      "   ---------------- ----------------------- 4.7/11.5 MB 4.3 MB/s eta 0:00:02\n",
      "   ----------------- ---------------------- 4.9/11.5 MB 4.4 MB/s eta 0:00:02\n",
      "   ------------------ --------------------- 5.3/11.5 MB 4.6 MB/s eta 0:00:02\n",
      "   ------------------- -------------------- 5.5/11.5 MB 4.6 MB/s eta 0:00:02\n",
      "   -------------------- ------------------- 5.8/11.5 MB 4.6 MB/s eta 0:00:02\n",
      "   --------------------- ------------------ 6.1/11.5 MB 4.6 MB/s eta 0:00:02\n",
      "   ---------------------- ----------------- 6.3/11.5 MB 4.7 MB/s eta 0:00:02\n",
      "   ----------------------- ---------------- 6.6/11.5 MB 4.8 MB/s eta 0:00:02\n",
      "   ------------------------ --------------- 7.0/11.5 MB 4.8 MB/s eta 0:00:01\n",
      "   ------------------------- -------------- 7.3/11.5 MB 4.9 MB/s eta 0:00:01\n",
      "   -------------------------- ------------- 7.5/11.5 MB 5.0 MB/s eta 0:00:01\n",
      "   -------------------------- ------------- 7.7/11.5 MB 4.9 MB/s eta 0:00:01\n",
      "   --------------------------- ------------ 7.8/11.5 MB 4.8 MB/s eta 0:00:01\n",
      "   ---------------------------- ----------- 8.2/11.5 MB 4.9 MB/s eta 0:00:01\n",
      "   ----------------------------- ---------- 8.4/11.5 MB 4.9 MB/s eta 0:00:01\n",
      "   ----------------------------- ---------- 8.6/11.5 MB 4.9 MB/s eta 0:00:01\n",
      "   ------------------------------ --------- 8.9/11.5 MB 4.9 MB/s eta 0:00:01\n",
      "   ------------------------------- -------- 9.2/11.5 MB 4.9 MB/s eta 0:00:01\n",
      "   -------------------------------- ------- 9.5/11.5 MB 5.0 MB/s eta 0:00:01\n",
      "   ---------------------------------- ----- 9.8/11.5 MB 5.0 MB/s eta 0:00:01\n",
      "   ----------------------------------- ---- 10.1/11.5 MB 5.1 MB/s eta 0:00:01\n",
      "   ------------------------------------ --- 10.5/11.5 MB 5.3 MB/s eta 0:00:01\n",
      "   ------------------------------------- -- 10.9/11.5 MB 5.5 MB/s eta 0:00:01\n",
      "   ---------------------------------------  11.3/11.5 MB 5.7 MB/s eta 0:00:01\n",
      "   ---------------------------------------  11.5/11.5 MB 5.9 MB/s eta 0:00:01\n",
      "   ---------------------------------------- 11.5/11.5 MB 5.8 MB/s eta 0:00:00\n",
      "Downloading pytz-2024.2-py2.py3-none-any.whl (508 kB)\n",
      "   ---------------------------------------- 0.0/508.0 kB ? eta -:--:--\n",
      "   ------------------------------- -------- 399.4/508.0 kB 8.3 MB/s eta 0:00:01\n",
      "   ---------------------------------------- 508.0/508.0 kB 7.9 MB/s eta 0:00:00\n",
      "Downloading tzdata-2024.2-py2.py3-none-any.whl (346 kB)\n",
      "   ---------------------------------------- 0.0/346.6 kB ? eta -:--:--\n",
      "   --------------------------------------  337.9/346.6 kB 10.6 MB/s eta 0:00:01\n",
      "   ---------------------------------------- 346.6/346.6 kB 7.2 MB/s eta 0:00:00\n",
      "Installing collected packages: pytz, tzdata, pandas\n",
      "Successfully installed pandas-2.2.3 pytz-2024.2 tzdata-2024.2\n",
      "Note: you may need to restart the kernel to use updated packages.\n"
     ]
    },
    {
     "name": "stderr",
     "output_type": "stream",
     "text": [
      "\n",
      "[notice] A new release of pip is available: 24.0 -> 24.2\n",
      "[notice] To update, run: python.exe -m pip install --upgrade pip\n"
     ]
    }
   ],
   "source": [
    "pip install pandas"
   ]
  },
  {
   "cell_type": "code",
   "execution_count": 12,
   "metadata": {},
   "outputs": [
    {
     "name": "stdout",
     "output_type": "stream",
     "text": [
      "Requirement already satisfied: Seaborn in c:\\users\\shiba\\appdata\\local\\programs\\python\\python312\\lib\\site-packages (0.13.2)\n",
      "Requirement already satisfied: numpy!=1.24.0,>=1.20 in c:\\users\\shiba\\appdata\\local\\programs\\python\\python312\\lib\\site-packages (from Seaborn) (1.26.4)\n",
      "Requirement already satisfied: pandas>=1.2 in c:\\users\\shiba\\appdata\\local\\programs\\python\\python312\\lib\\site-packages (from Seaborn) (2.2.3)\n",
      "Requirement already satisfied: matplotlib!=3.6.1,>=3.4 in c:\\users\\shiba\\appdata\\local\\programs\\python\\python312\\lib\\site-packages (from Seaborn) (3.9.2)\n",
      "Requirement already satisfied: contourpy>=1.0.1 in c:\\users\\shiba\\appdata\\local\\programs\\python\\python312\\lib\\site-packages (from matplotlib!=3.6.1,>=3.4->Seaborn) (1.3.0)\n",
      "Requirement already satisfied: cycler>=0.10 in c:\\users\\shiba\\appdata\\local\\programs\\python\\python312\\lib\\site-packages (from matplotlib!=3.6.1,>=3.4->Seaborn) (0.12.1)\n",
      "Requirement already satisfied: fonttools>=4.22.0 in c:\\users\\shiba\\appdata\\local\\programs\\python\\python312\\lib\\site-packages (from matplotlib!=3.6.1,>=3.4->Seaborn) (4.54.1)\n",
      "Requirement already satisfied: kiwisolver>=1.3.1 in c:\\users\\shiba\\appdata\\local\\programs\\python\\python312\\lib\\site-packages (from matplotlib!=3.6.1,>=3.4->Seaborn) (1.4.7)\n",
      "Requirement already satisfied: packaging>=20.0 in c:\\users\\shiba\\appdata\\local\\programs\\python\\python312\\lib\\site-packages (from matplotlib!=3.6.1,>=3.4->Seaborn) (24.1)\n",
      "Requirement already satisfied: pillow>=8 in c:\\users\\shiba\\appdata\\local\\programs\\python\\python312\\lib\\site-packages (from matplotlib!=3.6.1,>=3.4->Seaborn) (10.4.0)\n",
      "Requirement already satisfied: pyparsing>=2.3.1 in c:\\users\\shiba\\appdata\\local\\programs\\python\\python312\\lib\\site-packages (from matplotlib!=3.6.1,>=3.4->Seaborn) (3.1.4)\n",
      "Requirement already satisfied: python-dateutil>=2.7 in c:\\users\\shiba\\appdata\\roaming\\python\\python312\\site-packages (from matplotlib!=3.6.1,>=3.4->Seaborn) (2.9.0.post0)\n",
      "Requirement already satisfied: pytz>=2020.1 in c:\\users\\shiba\\appdata\\local\\programs\\python\\python312\\lib\\site-packages (from pandas>=1.2->Seaborn) (2024.2)\n",
      "Requirement already satisfied: tzdata>=2022.7 in c:\\users\\shiba\\appdata\\local\\programs\\python\\python312\\lib\\site-packages (from pandas>=1.2->Seaborn) (2024.2)\n",
      "Requirement already satisfied: six>=1.5 in c:\\users\\shiba\\appdata\\roaming\\python\\python312\\site-packages (from python-dateutil>=2.7->matplotlib!=3.6.1,>=3.4->Seaborn) (1.16.0)\n"
     ]
    },
    {
     "name": "stderr",
     "output_type": "stream",
     "text": [
      "\n",
      "[notice] A new release of pip is available: 24.0 -> 24.2\n",
      "[notice] To update, run: python.exe -m pip install --upgrade pip\n"
     ]
    },
    {
     "name": "stdout",
     "output_type": "stream",
     "text": [
      "Requirement already satisfied: matplotlib in c:\\users\\shiba\\appdata\\local\\programs\\python\\python312\\lib\\site-packages (3.9.2)\n",
      "Requirement already satisfied: contourpy>=1.0.1 in c:\\users\\shiba\\appdata\\local\\programs\\python\\python312\\lib\\site-packages (from matplotlib) (1.3.0)\n",
      "Requirement already satisfied: cycler>=0.10 in c:\\users\\shiba\\appdata\\local\\programs\\python\\python312\\lib\\site-packages (from matplotlib) (0.12.1)\n",
      "Requirement already satisfied: fonttools>=4.22.0 in c:\\users\\shiba\\appdata\\local\\programs\\python\\python312\\lib\\site-packages (from matplotlib) (4.54.1)\n",
      "Requirement already satisfied: kiwisolver>=1.3.1 in c:\\users\\shiba\\appdata\\local\\programs\\python\\python312\\lib\\site-packages (from matplotlib) (1.4.7)\n",
      "Requirement already satisfied: numpy>=1.23 in c:\\users\\shiba\\appdata\\local\\programs\\python\\python312\\lib\\site-packages (from matplotlib) (1.26.4)\n",
      "Requirement already satisfied: packaging>=20.0 in c:\\users\\shiba\\appdata\\local\\programs\\python\\python312\\lib\\site-packages (from matplotlib) (24.1)\n",
      "Requirement already satisfied: pillow>=8 in c:\\users\\shiba\\appdata\\local\\programs\\python\\python312\\lib\\site-packages (from matplotlib) (10.4.0)\n",
      "Requirement already satisfied: pyparsing>=2.3.1 in c:\\users\\shiba\\appdata\\local\\programs\\python\\python312\\lib\\site-packages (from matplotlib) (3.1.4)\n",
      "Requirement already satisfied: python-dateutil>=2.7 in c:\\users\\shiba\\appdata\\roaming\\python\\python312\\site-packages (from matplotlib) (2.9.0.post0)\n",
      "Requirement already satisfied: six>=1.5 in c:\\users\\shiba\\appdata\\roaming\\python\\python312\\site-packages (from python-dateutil>=2.7->matplotlib) (1.16.0)\n"
     ]
    },
    {
     "name": "stderr",
     "output_type": "stream",
     "text": [
      "\n",
      "[notice] A new release of pip is available: 24.0 -> 24.2\n",
      "[notice] To update, run: python.exe -m pip install --upgrade pip\n"
     ]
    },
    {
     "name": "stdout",
     "output_type": "stream",
     "text": [
      "Collecting scikit-learn\n",
      "  Using cached scikit_learn-1.5.2-cp312-cp312-win_amd64.whl.metadata (13 kB)\n",
      "Requirement already satisfied: numpy>=1.19.5 in c:\\users\\shiba\\appdata\\local\\programs\\python\\python312\\lib\\site-packages (from scikit-learn) (1.26.4)\n",
      "Requirement already satisfied: scipy>=1.6.0 in c:\\users\\shiba\\appdata\\local\\programs\\python\\python312\\lib\\site-packages (from scikit-learn) (1.14.1)\n",
      "Requirement already satisfied: joblib>=1.2.0 in c:\\users\\shiba\\appdata\\local\\programs\\python\\python312\\lib\\site-packages (from scikit-learn) (1.4.2)\n",
      "Requirement already satisfied: threadpoolctl>=3.1.0 in c:\\users\\shiba\\appdata\\local\\programs\\python\\python312\\lib\\site-packages (from scikit-learn) (3.5.0)\n",
      "Using cached scikit_learn-1.5.2-cp312-cp312-win_amd64.whl (11.0 MB)\n",
      "Installing collected packages: scikit-learn\n"
     ]
    },
    {
     "name": "stderr",
     "output_type": "stream",
     "text": [
      "ERROR: Could not install packages due to an OSError: [WinError 32] The process cannot access the file because it is being used by another process: 'C:\\\\Users\\\\shiba\\\\AppData\\\\Local\\\\Programs\\\\Python\\\\Python312\\\\Lib\\\\site-packages\\\\sklearn\\\\_build_utils\\\\version.py'\n",
      "Consider using the `--user` option or check the permissions.\n",
      "\n",
      "\n",
      "[notice] A new release of pip is available: 24.0 -> 24.2\n",
      "[notice] To update, run: python.exe -m pip install --upgrade pip\n"
     ]
    }
   ],
   "source": [
    "!pip install Seaborn\n",
    "!pip install matplotlib\n",
    "!pip install scikit-learn\n"
   ]
  },
  {
   "cell_type": "code",
   "execution_count": 13,
   "metadata": {},
   "outputs": [],
   "source": [
    "#item based filtering(large dataset)https://www.geeksforgeeks.org/build-a-recommendation-engine-with-collaborative-filtering/\n",
    "import numpy as np\n",
    "import pandas as pd\n",
    "import seaborn as sns\n",
    "import matplotlib.pyplot as plt\n",
    "from sklearn.preprocessing import StandardScaler\n",
    "from sklearn.metrics.pairwise import cosine_similarity"
   ]
  },
  {
   "cell_type": "code",
   "execution_count": 19,
   "metadata": {},
   "outputs": [
    {
     "name": "stdout",
     "output_type": "stream",
     "text": [
      "<class 'pandas.core.frame.DataFrame'>\n",
      "RangeIndex: 731290 entries, 0 to 731289\n",
      "Data columns (total 16 columns):\n",
      " #   Column            Non-Null Count   Dtype  \n",
      "---  ------            --------------   -----  \n",
      " 0   Mal ID            731290 non-null  int64  \n",
      " 1   Username          731289 non-null  object \n",
      " 2   Gender            224383 non-null  object \n",
      " 3   Birthday          168068 non-null  object \n",
      " 4   Location          152805 non-null  object \n",
      " 5   Joined            731290 non-null  object \n",
      " 6   Days Watched      731282 non-null  float64\n",
      " 7   Mean Score        731282 non-null  float64\n",
      " 8   Watching          731282 non-null  float64\n",
      " 9   Completed         731282 non-null  float64\n",
      " 10  On Hold           731282 non-null  float64\n",
      " 11  Dropped           731282 non-null  float64\n",
      " 12  Plan to Watch     731282 non-null  float64\n",
      " 13  Total Entries     731282 non-null  float64\n",
      " 14  Rewatched         731282 non-null  float64\n",
      " 15  Episodes Watched  731282 non-null  float64\n",
      "dtypes: float64(10), int64(1), object(5)\n",
      "memory usage: 89.3+ MB\n",
      "<class 'pandas.core.frame.DataFrame'>\n",
      "RangeIndex: 14952 entries, 0 to 14951\n",
      "Data columns (total 25 columns):\n",
      " #   Column         Non-Null Count  Dtype  \n",
      "---  ------         --------------  -----  \n",
      " 0   anime_id       14952 non-null  int64  \n",
      " 1   Name           14952 non-null  object \n",
      " 2   Score          14952 non-null  float64\n",
      " 3   Genres         14952 non-null  object \n",
      " 4   English name   14952 non-null  object \n",
      " 5   Japanese name  14952 non-null  object \n",
      " 6   sypnopsis      13602 non-null  object \n",
      " 7   Type           14952 non-null  object \n",
      " 8   Episodes       14952 non-null  object \n",
      " 9   Aired          14952 non-null  object \n",
      " 10  Premiered      14952 non-null  object \n",
      " 11  Producers      14952 non-null  object \n",
      " 12  Licensors      14952 non-null  object \n",
      " 13  Studios        14952 non-null  object \n",
      " 14  Source         14952 non-null  object \n",
      " 15  Duration       14952 non-null  object \n",
      " 16  Rating         14952 non-null  object \n",
      " 17  Ranked         13231 non-null  float64\n",
      " 18  Popularity     14952 non-null  int64  \n",
      " 19  Members        14952 non-null  int64  \n",
      " 20  Favorites      14952 non-null  int64  \n",
      " 21  Watching       14952 non-null  int64  \n",
      " 22  Completed      14952 non-null  int64  \n",
      " 23  On-Hold        14952 non-null  int64  \n",
      " 24  Dropped        14952 non-null  int64  \n",
      "dtypes: float64(2), int64(8), object(15)\n",
      "memory usage: 2.9+ MB\n",
      "<class 'pandas.core.frame.DataFrame'>\n",
      "RangeIndex: 109224747 entries, 0 to 109224746\n",
      "Data columns (total 3 columns):\n",
      " #   Column    Dtype\n",
      "---  ------    -----\n",
      " 0   user_id   int64\n",
      " 1   anime_id  int64\n",
      " 2   rating    int64\n",
      "dtypes: int64(3)\n",
      "memory usage: 2.4 GB\n"
     ]
    }
   ],
   "source": [
    "# Load datasets\n",
    "users = pd.read_csv('users-details-2023.csv')\n",
    "anime = pd.read_csv('anime-filtered.csv')\n",
    "ratings = pd.read_csv('user-filtered.csv')\n",
    "\n",
    "# Get dataset info\n",
    "users.info()\n",
    "anime.info()\n",
    "ratings.info()\n"
   ]
  },
  {
   "cell_type": "code",
   "execution_count": 20,
   "metadata": {},
   "outputs": [],
   "source": [
    "new_anime = anime.drop_duplicates('English name')\n"
   ]
  },
  {
   "cell_type": "code",
   "execution_count": 21,
   "metadata": {},
   "outputs": [],
   "source": [
    "ratings_with_name = ratings.merge(new_anime, on='anime_id')\n",
    "\n"
   ]
  },
  {
   "cell_type": "code",
   "execution_count": 22,
   "metadata": {},
   "outputs": [
    {
     "name": "stdout",
     "output_type": "stream",
     "text": [
      "<class 'pandas.core.frame.DataFrame'>\n",
      "RangeIndex: 85036435 entries, 0 to 85036434\n",
      "Data columns (total 27 columns):\n",
      " #   Column         Dtype  \n",
      "---  ------         -----  \n",
      " 0   user_id        int64  \n",
      " 1   anime_id       int64  \n",
      " 2   rating         int64  \n",
      " 3   Name           object \n",
      " 4   Score          float64\n",
      " 5   Genres         object \n",
      " 6   English name   object \n",
      " 7   Japanese name  object \n",
      " 8   sypnopsis      object \n",
      " 9   Type           object \n",
      " 10  Episodes       object \n",
      " 11  Aired          object \n",
      " 12  Premiered      object \n",
      " 13  Producers      object \n",
      " 14  Licensors      object \n",
      " 15  Studios        object \n",
      " 16  Source         object \n",
      " 17  Duration       object \n",
      " 18  Rating         object \n",
      " 19  Ranked         float64\n",
      " 20  Popularity     int64  \n",
      " 21  Members        int64  \n",
      " 22  Favorites      int64  \n",
      " 23  Watching       int64  \n",
      " 24  Completed      int64  \n",
      " 25  On-Hold        int64  \n",
      " 26  Dropped        int64  \n",
      "dtypes: float64(2), int64(10), object(15)\n",
      "memory usage: 17.1+ GB\n"
     ]
    }
   ],
   "source": [
    "ratings_with_name.info()"
   ]
  }
 ],
 "metadata": {
  "kernelspec": {
   "display_name": "Python 3",
   "language": "python",
   "name": "python3"
  },
  "language_info": {
   "codemirror_mode": {
    "name": "ipython",
    "version": 3
   },
   "file_extension": ".py",
   "mimetype": "text/x-python",
   "name": "python",
   "nbconvert_exporter": "python",
   "pygments_lexer": "ipython3",
   "version": "3.12.3"
  }
 },
 "nbformat": 4,
 "nbformat_minor": 2
}
